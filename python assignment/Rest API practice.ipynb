{
 "cells": [
  {
   "cell_type": "code",
   "execution_count": 15,
   "metadata": {},
   "outputs": [
    {
     "name": "stdout",
     "output_type": "stream",
     "text": [
      "['Mythological Creature', 'Human', 'Animal', 'Alien']\n",
      "4\n",
      "{'Human': 12, 'Alien': 6}\n"
     ]
    }
   ],
   "source": [
    "import requests\n",
    "import json\n",
    "import pandas as pd\n",
    "\n",
    "baseurl = 'https://rickandmortyapi.com/api/'\n",
    "endpoint = 'character'\n",
    "\n",
    "def main_request(baseurl, endpoint,x ):\n",
    "    r = requests.get(baseurl + endpoint + f'?page={x}')\n",
    "    return r.json()\n",
    "\n",
    "def get_pages(response):\n",
    "    return response['info']['pages']\n",
    "\n",
    "def parse_json(response):\n",
    "    charlist = []\n",
    "    for item in response['results']:   \n",
    "        char={\n",
    "            'id' : item['id'],\n",
    "            'name' : item['name'],\n",
    "            'no_ep': len(item['episode'])\n",
    "        }\n",
    "        charlist.append(char)\n",
    "\n",
    "        return charlist\n",
    " \n",
    "mainlist =[]\n",
    "data = main_request(baseurl, endpoint, 3)\n",
    "\n",
    "species = []\n",
    "specie_count = {}\n",
    "for i in range(len(data['results'])):\n",
    "    specie = data['results'][i]['species']\n",
    "    if specie not in species:\n",
    "        species.append(specie)\n",
    "    if specie == 'Human':\n",
    "        if 'Human' in specie_count:\n",
    "            specie_count['Human'] += 1\n",
    "        else:\n",
    "            specie_count['Human'] = 1\n",
    "    if specie == 'Alien':\n",
    "        if 'Alien' in specie_count:\n",
    "            specie_count['Alien'] += 1\n",
    "        else:\n",
    "            specie_count['Alien'] = 1\n",
    "  \n",
    "print(species)\n",
    "print(len(species))\n",
    "    \n",
    "print(specie_count) \n",
    "'''\n",
    "for x in range(1,get_pages(data)+1):\n",
    "    print(x)\n",
    "    mainlist.extend(parse_json(main_request(baseurl, endpoint, x)))\n",
    "#print(parse_json(data))\n",
    "'''\n",
    "\n",
    "df = pd.DataFrame(mainlist)\n",
    "\n",
    "# print(df.head, df.tail)"
   ]
  },
  {
   "cell_type": "code",
   "execution_count": 62,
   "metadata": {},
   "outputs": [],
   "source": [
    "df = pd.DataFrame(mainlist)\n",
    "#print(df.head, df.tail)\n",
    "df.to_csv('charlist.csv', index=False)"
   ]
  }
 ],
 "metadata": {
  "kernelspec": {
   "display_name": "Python 3",
   "language": "python",
   "name": "python3"
  },
  "language_info": {
   "codemirror_mode": {
    "name": "ipython",
    "version": 3
   },
   "file_extension": ".py",
   "mimetype": "text/x-python",
   "name": "python",
   "nbconvert_exporter": "python",
   "pygments_lexer": "ipython3",
   "version": "3.12.1"
  }
 },
 "nbformat": 4,
 "nbformat_minor": 2
}
