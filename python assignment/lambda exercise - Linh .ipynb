{
 "cells": [
  {
   "cell_type": "code",
   "execution_count": 30,
   "metadata": {},
   "outputs": [],
   "source": [
    "prog_lang = [('Python', 3.8),\n",
    "('Java', 13),\n",
    "('JavaScript', 2019),\n",
    "('Scala', 2.13)]\n"
   ]
  },
  {
   "cell_type": "code",
   "execution_count": 32,
   "metadata": {},
   "outputs": [
    {
     "name": "stdout",
     "output_type": "stream",
     "text": [
      "[('JavaScript', 2019), ('Python', 3.8), ('Scala', 2.13), ('Java', 13)]\n"
     ]
    }
   ],
   "source": [
    "# Sort the list by the length of the name of each language in descending order.\n",
    "sorted_prog_lang = sorted(prog_lang, key=lambda x: len(x[0]), reverse = True) \n",
    "print(sorted_prog_lang)\n"
   ]
  },
  {
   "cell_type": "code",
   "execution_count": 43,
   "metadata": {},
   "outputs": [
    {
     "name": "stdout",
     "output_type": "stream",
     "text": [
      "[('Java', 13), ('JavaScript', 2019), ('Scala', 2.13)]\n"
     ]
    }
   ],
   "source": [
    "filter_pro = list(filter(lambda x: 'a' in x[0],prog_lang))\n",
    "print(filter_pro)"
   ]
  },
  {
   "cell_type": "code",
   "execution_count": 18,
   "metadata": {},
   "outputs": [
    {
     "name": "stdout",
     "output_type": "stream",
     "text": [
      "[('Java', 13), ('JavaScript', 2019)]\n"
     ]
    }
   ],
   "source": [
    "# Filter the list so that it only contains languages whose version is in integer\n",
    "filter_prog_lang = list(map(lambda x: type(x[1]) == int, prog_lang))\n",
    "print(filter_prog_lang)"
   ]
  },
  {
   "cell_type": "code",
   "execution_count": 50,
   "metadata": {},
   "outputs": [
    {
     "name": "stdout",
     "output_type": "stream",
     "text": [
      "[('python', 6), ('java', 4), ('javascript', 10), ('scala', 5)]\n"
     ]
    }
   ],
   "source": [
    "filter_prog_lang = list(map(lambda x: (x[0].lower(), len(x[0])), prog_lang))\n",
    "print(filter_prog_lang)"
   ]
  },
  {
   "cell_type": "code",
   "execution_count": 54,
   "metadata": {},
   "outputs": [
    {
     "name": "stdout",
     "output_type": "stream",
     "text": [
      "[('Python', 'Java', 'JavaScript', 'Scala'), (3.8, 13, 2019, 2.13)]\n",
      "[('Python', 'Java', 'JavaScript', 'Scala'), (3.8, 13, 2019, 2.13)]\n",
      "('Python,Java,JavaScript,Scala', '3.8,13,2019,2.13')\n"
     ]
    }
   ],
   "source": [
    "# Generate a tuple in the form, (\"All languages separated by commas\", \"All versions separated by commas\").\n",
    "# solution 1\n",
    "# name = []\n",
    "# version = []\n",
    "# for i in prog_lang:\n",
    "#     name.append(i[0])\n",
    "#     version.append(i[1])\n",
    "# tup = [tuple(name), tuple(version)]\n",
    "# print(tup)\n",
    "# map_prog_lang = tuple(map(lambda x: \",\".join(map(str,x)), tup))\n",
    "\n",
    "# solution 2\n",
    "map_prog_lang = tuple(map(lambda x: \",\".join(map(str,x)), zip(*prog_lang)))\n",
    "print(map_prog_lang)"
   ]
  }
 ],
 "metadata": {
  "kernelspec": {
   "display_name": "Python 3",
   "language": "python",
   "name": "python3"
  },
  "language_info": {
   "codemirror_mode": {
    "name": "ipython",
    "version": 3
   },
   "file_extension": ".py",
   "mimetype": "text/x-python",
   "name": "python",
   "nbconvert_exporter": "python",
   "pygments_lexer": "ipython3",
   "version": "3.12.1"
  }
 },
 "nbformat": 4,
 "nbformat_minor": 2
}
