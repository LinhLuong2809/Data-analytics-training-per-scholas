{
 "cells": [
  {
   "cell_type": "code",
   "execution_count": 2,
   "metadata": {},
   "outputs": [
    {
     "name": "stdout",
     "output_type": "stream",
     "text": [
      "(1, 'Document A')\n",
      "(2, 'Photograph B')\n",
      "(3, 'Document B')\n",
      "(4, 'Fingerprint C')\n",
      "(5, 'VideoTape D')\n",
      "(6, 'Photograph C')\n",
      "(7, 'Eyewitness B')\n",
      "(8, 'Photograph B')\n",
      "(9, 'Audio Recording C')\n",
      "(10, 'Voicemail F')\n",
      "(11, 'Video Footage F')\n"
     ]
    }
   ],
   "source": [
    "import mysql.connector\n",
    "\n",
    "# Connect to the MySQL database\n",
    "conn = mysql.connector.connect(\n",
    "host=\"localhost\",\n",
    "user=\"root\",\n",
    "password=\"password\",\n",
    "database=\"Cap_evidence\"\n",
    ")\n",
    "cursor = conn.cursor()\n",
    "\n",
    "# Execute the SQL query to retrieve all cases\n",
    "cursor.execute('SELECT * FROM evidence')\n",
    "\n",
    "# Fetch all the results\n",
    "all_cases = cursor.fetchall()\n",
    "\n",
    "# Print or process the retrieved cases\n",
    "for case in all_cases:\n",
    "    print(case)\n",
    "\n",
    "# Close the database connection\n",
    "conn.close()"
   ]
  }
 ],
 "metadata": {
  "kernelspec": {
   "display_name": "Python 3",
   "language": "python",
   "name": "python3"
  },
  "language_info": {
   "codemirror_mode": {
    "name": "ipython",
    "version": 3
   },
   "file_extension": ".py",
   "mimetype": "text/x-python",
   "name": "python",
   "nbconvert_exporter": "python",
   "pygments_lexer": "ipython3",
   "version": "3.12.1"
  }
 },
 "nbformat": 4,
 "nbformat_minor": 2
}
