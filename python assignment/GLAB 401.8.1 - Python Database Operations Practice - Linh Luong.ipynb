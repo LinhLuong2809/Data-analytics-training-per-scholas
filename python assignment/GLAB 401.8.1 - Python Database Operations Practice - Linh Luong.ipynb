{
 "cells": [
  {
   "cell_type": "code",
   "execution_count": 1,
   "metadata": {},
   "outputs": [],
   "source": [
    "'''\n",
    "Task 1: Database Connection\n",
    "1. Setup Database:\n",
    " Create a new database named `operations_db` in your mysql platform. \n",
    "\n",
    "3. Connect to Database:\n",
    " Create a Python script or Jupyter Notebook.\n",
    " Establish a connection to the `operations_db` database.\n",
    "\n",
    "'''\n",
    "import mysql.connector\n",
    "import my_secrets\n",
    "try:\n",
    "    conn = mysql.connector.connect(\n",
    "        host=\"localhost\",\n",
    "        user=my_secrets.mysql_username,\n",
    "        password=my_secrets.mysql_password,\n",
    "        database=\"operations_db\"\n",
    "       )\n",
    "       #Print a db connection success message\n",
    "\n",
    "except mysql.connector.Error as e:\n",
    "    print(f\"Error: {e}\")\n"
   ]
  },
  {
   "cell_type": "code",
   "execution_count": 7,
   "metadata": {},
   "outputs": [
    {
     "name": "stdout",
     "output_type": "stream",
     "text": [
      "Table 'students' created successfully\n"
     ]
    }
   ],
   "source": [
    "'''\n",
    "Task 2: CRUD Operations\n",
    "Create Operation:\n",
    "1. Create a Table:\n",
    " Create a table named `students` with columns `id` (auto-incremented), `name`, and `age`.\n",
    "\n",
    "'''\n",
    "\n",
    "try:\n",
    "    cursor = conn.cursor()\n",
    "    cursor.execute(f\"USE operations_db\")\n",
    "    \n",
    "    create_table_query = \"CREATE TABLE IF NOT EXISTS students (id INT AUTO_INCREMENT PRIMARY KEY, name VARCHAR(255), age INT);\"\n",
    "    cursor.execute(create_table_query)\n",
    "    \n",
    "    print(\"Table 'students' created successfully\")\n",
    "    \n",
    "    conn.commit()\n",
    "\n",
    "except mysql.connector.Error as e:\n",
    "    print(f\"Error: {e}\")\n",
    "\n",
    "finally:\n",
    "    cursor.close()\n",
    "\n"
   ]
  },
  {
   "cell_type": "code",
   "execution_count": 11,
   "metadata": {},
   "outputs": [
    {
     "name": "stdout",
     "output_type": "stream",
     "text": [
      "Data inserted successfully\n"
     ]
    }
   ],
   "source": [
    "'''\n",
    "2. Insert Data:\n",
    "Insert a new student into the `students` table.\n",
    "'''\n",
    "try:\n",
    "    cursor = conn.cursor()\n",
    "\n",
    "    insert_data_query = \"INSERT INTO students(name, age) VALUES ('Tony Stark', 40), ('Jack Sparrow', 56), ('Alice', 38);\"\n",
    "    \n",
    "    cursor.execute(insert_data_query)\n",
    "    conn.commit()\n",
    "    print(\"Data inserted successfully\")\n",
    "\n",
    "except mysql.connector.Error as e:\n",
    "    print(f\"Error: {e}\")\n",
    "\n",
    "finally:\n",
    "    cursor.close()\n",
    "\n"
   ]
  },
  {
   "cell_type": "code",
   "execution_count": 15,
   "metadata": {},
   "outputs": [
    {
     "name": "stdout",
     "output_type": "stream",
     "text": [
      "\n",
      "List of Students:\n",
      "(1, 'Tony Stark', 40)\n",
      "(2, 'Jack Sparrow', 56)\n"
     ]
    }
   ],
   "source": [
    "'''\n",
    "2. Read Operation:\n",
    " Fetch and display all students from the `students` table.\n",
    "\n",
    "'''\n",
    "try:\n",
    "    cursor = conn.cursor()\n",
    "\n",
    "    select_data_query = \"select * from students\"\n",
    "\n",
    "    cursor.execute(select_data_query)\n",
    "    rows = cursor.fetchall()\n",
    "\n",
    "    print(\"\\nList of Students:\")\n",
    "    for row in rows:\n",
    "        print(row)\n",
    "\n",
    "except mysql.connector.Error as e:\n",
    "    print(f\"Error: {e}\")\n",
    "\n",
    "finally:\n",
    "    cursor.close()\n",
    "\n",
    "\n",
    "\n"
   ]
  },
  {
   "cell_type": "code",
   "execution_count": 12,
   "metadata": {},
   "outputs": [
    {
     "name": "stdout",
     "output_type": "stream",
     "text": [
      "Data updated successfully\n"
     ]
    }
   ],
   "source": [
    "'''\n",
    "3. Update Operation:\n",
    " Update the age of the student named 'Alice' to 23.\n",
    " \n",
    "'''\n",
    "try:\n",
    "    cursor = conn.cursor()\n",
    "\n",
    "    update_data_query = \"UPDATE students set age = 23 where name like 'Alice' \"\n",
    "\n",
    "    cursor.execute(update_data_query)\n",
    "    conn.commit()\n",
    "    print(\"Data updated successfully\")\n",
    "\n",
    "except mysql.connector.Error as e:\n",
    "    print(f\"Error: {e}\")\n",
    "\n",
    "finally:\n",
    "    cursor.close()\n",
    "\n",
    "\n",
    "\n"
   ]
  },
  {
   "cell_type": "code",
   "execution_count": 14,
   "metadata": {},
   "outputs": [
    {
     "name": "stdout",
     "output_type": "stream",
     "text": [
      "Data deleted successfully\n"
     ]
    }
   ],
   "source": [
    "'''\n",
    "4. Delete Operation:\n",
    " Delete the student named 'Alice' from the `students` table.\n",
    "'''\n",
    "\n",
    "try:\n",
    "    cursor = conn.cursor()\n",
    "\n",
    "    delete_data_query = \"DELETE from students where name like 'Alice'\"\n",
    "\n",
    "    cursor.execute(delete_data_query)\n",
    "    conn.commit()\n",
    "    print(\"Data deleted successfully\")\n",
    "\n",
    "except mysql.connector.Error as e:\n",
    "    print(f\"Error: {e}\")\n",
    "\n",
    "finally:\n",
    "    cursor.close()\n",
    "\n"
   ]
  }
 ],
 "metadata": {
  "kernelspec": {
   "display_name": "Python 3",
   "language": "python",
   "name": "python3"
  },
  "language_info": {
   "codemirror_mode": {
    "name": "ipython",
    "version": 3
   },
   "file_extension": ".py",
   "mimetype": "text/x-python",
   "name": "python",
   "nbconvert_exporter": "python",
   "pygments_lexer": "ipython3",
   "version": "3.12.1"
  }
 },
 "nbformat": 4,
 "nbformat_minor": 2
}
