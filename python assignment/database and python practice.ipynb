{
 "cells": [
  {
   "cell_type": "code",
   "execution_count": 4,
   "metadata": {},
   "outputs": [
    {
     "name": "stdout",
     "output_type": "stream",
     "text": [
      "['employeeNumber', 'lastName', 'firstName', 'extension', 'email', 'officeCode', 'reportsTo', 'jobTitle', 'VacationHours', 'hourly_pay', 'salary', 'dept', 'hire_date', 'birthdate']\n",
      "(1002, 'Murphy', 'Diane', 'x5800', 'dmurphy@classicmodelcars.com', '1', None, 'President', 20, Decimal('252.40'), None, None, None, None)\n",
      "(1056, 'Patterson', 'Mary', 'x4611', 'mpatterso@classicmodelcars.com', '1', 1002, 'VP Sales', 20, Decimal('120.19'), None, None, None, None)\n",
      "(1076, 'Firrelli', 'Jeff', 'x9273', 'jfirrelli@classicmodelcars.com', '1', 1002, 'VP Marketing', 40, Decimal('108.17'), None, None, None, None)\n",
      "(1088, 'Patterson', 'William', 'x4871', 'wpatterson@classicmodelcars.com', '6', 1056, 'Sales Manager (APAC)', 58, Decimal('48.08'), None, None, None, None)\n",
      "(1102, 'Bondur', 'Gerard', 'x5408', 'gbondur@classicmodelcars.com', '4', 1056, 'Sale Manager (EMEA)', 20, Decimal('43.27'), None, None, None, None)\n",
      "(1143, 'Bow', 'Anthony', 'x5428', 'abow@classicmodelcars.com', '1', 1056, 'Sales Manager (NA)', 20, Decimal('36.06'), None, None, None, None)\n",
      "(1165, 'Jennings', 'Leslie', 'x3291', 'ljennings@classicmodelcars.com', '1', 1143, 'Sales Rep', 60, Decimal('25.00'), 52000, None, None, None)\n",
      "(1166, 'Thompson', 'Leslie', 'x4065', 'lthompson@classicmodelcars.com', '1', 1143, 'Sales Rep', 45, Decimal('21.63'), None, None, None, None)\n",
      "(1188, 'Firrelli', 'Julie', 'x2173', 'jfirrelli@classicmodelcars.com', '2', 1143, 'Sales Rep', 20, Decimal('12.02'), 25002, None, None, None)\n",
      "(1216, 'Patterson', 'Steve', 'x4334', 'spatterson@classicmodelcars.com', '2', 1143, 'Sales Rep', 20, None, None, None, None, None)\n",
      "(1286, 'Tseng', 'Foon Yue', 'x2248', 'ftseng@classicmodelcars.com', '3', 1143, 'Sales Rep', 85, None, None, None, None, None)\n",
      "(1323, 'Vanauf', 'George', 'x4102', 'gvanauf@classicmodelcars.com', '3', 1143, 'Sales Rep', 8, Decimal('16.83'), None, None, None, None)\n",
      "(1337, 'Bondur', 'Loui', 'x6493', 'lbondur@classicmodelcars.com', '4', 1102, 'Sales Rep', 20, Decimal('16.83'), None, None, None, None)\n",
      "(1370, 'Hernandez', 'Gerard', 'x2028', 'ghernande@classicmodelcars.com', '4', 1102, 'Sales Rep', 60, None, None, None, None, None)\n",
      "(1401, 'Castillo', 'Pamela', 'x2759', 'pcastillo@classicmodelcars.com', '4', 1102, 'Sales Rep', 20, Decimal('12.02'), None, None, None, None)\n",
      "(1501, 'Bott', 'Larry', 'x2311', 'lbott@classicmodelcars.com', '7', 1102, 'Sales Rep', 5, Decimal('19.23'), None, None, None, None)\n",
      "(1504, 'Jones', 'Barry', 'x102', 'bjones@classicmodelcars.com', '7', 1102, 'Sales Rep', 1, Decimal('20.19'), None, None, None, None)\n",
      "(1611, 'Fixter', 'Andy', 'x101', 'afixter@classicmodelcars.com', '6', 1088, 'Sales Rep', 22, None, None, None, None, None)\n",
      "(1612, 'Marsh', 'Peter', 'x102', 'pmarsh@classicmodelcars.com', '6', 1088, 'Sales Rep', 30, None, None, None, None, None)\n",
      "(1619, 'King', 'Tom', 'x103', 'tking@classicmodelcars.com', '6', 1088, 'Sales Rep', 3, Decimal('23.08'), None, None, None, None)\n",
      "(1621, 'Nishi', 'Mami', 'x101', 'mnishi@classicmodelcars.com', '5', 1056, 'Sales Rep', 20, Decimal('21.63'), None, None, None, None)\n",
      "(1625, 'Kato', 'Yoshimi', 'x102', 'ykato@classicmodelcars.com', '5', 1621, 'Sales Rep', 0, Decimal('12.02'), None, None, None, None)\n",
      "(1702, 'Gerard', 'Martin', 'x2312', 'mgerard@classicmodelcars.com', '4', 1102, 'Sales Rep', 20, Decimal('11.06'), None, None, None, None)\n",
      "(1801, 'Smith', 'John', 'x1234', 'jsmith@example.com', '1', 1002, 'Software Engineer', 20, Decimal('40.00'), 83200, 'IT', datetime.date(2024, 1, 1), datetime.date(1990, 6, 15))\n",
      "(1802, 'Doe', 'Jane', 'x1235', 'jdoe@example.com', '2', 1002, 'Marketing Manager', 20, Decimal('45.00'), 93600, 'Marketing', datetime.date(2024, 2, 1), datetime.date(1985, 8, 20))\n"
     ]
    }
   ],
   "source": [
    "import mysql.connector\n",
    "import my_secrets\n",
    "\n",
    "mysql_config = { # config for mysql connection\n",
    "    \"host\" : \"localhost\",\n",
    "    \"port\" : 3306,\n",
    "    \"user\" : my_secrets.mysql_username,\n",
    "    \"password\": my_secrets.mysql_password,\n",
    "    \"database\": \"classicmodels\"\n",
    "}\n",
    "\n",
    "conn = mysql.connector.connect(**mysql_config) # connect to mysql\n",
    "table_name = \"employees\" # table name\n",
    "query = f\"SELECT * FROM {table_name}\" #query\n",
    "\n",
    "cursor = conn.cursor() # create cursor\n",
    "cursor.execute(query) # execute query\n",
    "employees = cursor.fetchall()  # fetch all row to variable employees\n",
    "columns = [col[0] for col in cursor.description]\n",
    "\n",
    "print(columns)\n",
    "for employee in employees:\n",
    "    print(employee)\n"
   ]
  },
  {
   "cell_type": "code",
   "execution_count": 18,
   "metadata": {},
   "outputs": [
    {
     "name": "stdout",
     "output_type": "stream",
     "text": [
      "(1, 'Tony Stark', 40)\n",
      "(2, 'Jack Sparrow', 56)\n"
     ]
    }
   ],
   "source": [
    "import mysql.connector\n",
    "import my_secrets\n",
    "\n",
    "mysql_config = { # config for mysql connection\n",
    "    \"host\" : \"localhost\",\n",
    "    \"port\" : 3306,\n",
    "    \"user\" : my_secrets.mysql_username,\n",
    "    \"password\": my_secrets.mysql_password\n",
    "}\n",
    "\n",
    "conn = mysql.connector.connect(**mysql_config) # ** is the syntax to pass mysq_config as multiple key:value parameter to connector. without ** mysql_config would pass everything as a singular parameter and it won't work.\n",
    "\n",
    "cursor = conn.cursor()\n",
    "\n",
    "# Create a new database\n",
    "new_database_name = \"my_database\"\n",
    "create_database_query = f\"CREATE DATABASE IF NOT EXISTS {new_database_name}\"\n",
    "cursor.execute(create_database_query)\n",
    "\n",
    "# Switch to the new database\n",
    "cursor.execute(f\"USE {new_database_name}\")\n",
    "\n",
    "# create table and insert values\n",
    "cursor.execute(\"CREATE TABLE IF NOT EXISTS my_table (id INT AUTO_INCREMENT PRIMARY KEY,name VARCHAR(255) NOT NULL,age INT NOT NULL);\")\n",
    "cursor.execute(\"INSERT INTO my_table (name, age) VALUES ('Tony Stark', 40);\")\n",
    "cursor.execute(\"INSERT INTO my_table (name, age) VALUES ('Jack Sparrow', 56);\")\n",
    "\n",
    "# commit the change to database\n",
    "conn.commit()\n",
    "\n",
    "# fetch data to python\n",
    "\n",
    "cursor.execute(\"SELECT * FROM my_table;\")\n",
    "rows = cursor.fetchall()\n",
    "\n",
    "# print table\n",
    "for row in rows:\n",
    "    print(row)\n",
    "\n",
    "\n",
    "# Close the cursor and connection\n"
   ]
  },
  {
   "cell_type": "code",
   "execution_count": null,
   "metadata": {},
   "outputs": [],
   "source": []
  }
 ],
 "metadata": {
  "kernelspec": {
   "display_name": "Python 3",
   "language": "python",
   "name": "python3"
  },
  "language_info": {
   "codemirror_mode": {
    "name": "ipython",
    "version": 3
   },
   "file_extension": ".py",
   "mimetype": "text/x-python",
   "name": "python",
   "nbconvert_exporter": "python",
   "pygments_lexer": "ipython3",
   "version": "3.12.1"
  }
 },
 "nbformat": 4,
 "nbformat_minor": 2
}
