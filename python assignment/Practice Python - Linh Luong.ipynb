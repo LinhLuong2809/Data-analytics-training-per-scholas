{
 "cells": [
  {
   "cell_type": "code",
   "execution_count": 1,
   "metadata": {},
   "outputs": [
    {
     "name": "stdout",
     "output_type": "stream",
     "text": [
      "[4, 16, 36, 64, 100]\n"
     ]
    }
   ],
   "source": [
    "# List Comprehensions\n",
    "a = [1, 4, 9, 16, 25, 36, 49, 64, 81, 100]\n",
    "\n",
    "b = [num for num in a if num %2 == 0]\n",
    "print(b)"
   ]
  },
  {
   "cell_type": "code",
   "execution_count": 2,
   "metadata": {},
   "outputs": [
    {
     "name": "stdout",
     "output_type": "stream",
     "text": [
      "{64, 1, 4, 36, 100, 9, 16}\n"
     ]
    }
   ],
   "source": [
    "# List Remove Duplicates\n",
    "a = [1, 4, 9, 16, 16, 36, 1, 64, 4, 100]\n",
    "\n",
    "b = set([num for num in a])\n",
    "print(b)"
   ]
  },
  {
   "cell_type": "code",
   "execution_count": 33,
   "metadata": {},
   "outputs": [
    {
     "name": "stdout",
     "output_type": "stream",
     "text": [
      "COCKATIELS\n"
     ]
    }
   ],
   "source": [
    "# Pick Word\n",
    "import random\n",
    "with open(r'C:\\Users\\luong\\OneDrive\\Desktop\\data analyst training\\python\\python assignment\\sowpods.txt', 'r') as file:\n",
    "    line = file.readlines()\n",
    "    \n",
    "    if line:\n",
    "        random_line = random.choice(line)\n",
    "        print(random_line.strip())"
   ]
  },
  {
   "cell_type": "code",
   "execution_count": 26,
   "metadata": {},
   "outputs": [
    {
     "name": "stdout",
     "output_type": "stream",
     "text": [
      "uoy era woh olleH\n"
     ]
    }
   ],
   "source": [
    "# Reverse Word Order\n",
    "string = input(\"Enter your string message: \")\n",
    "\n",
    "def reverse(stri):\n",
    "    return print(stri[::-1])\n",
    "\n",
    "reverse(string)\n",
    "\n"
   ]
  },
  {
   "cell_type": "code",
   "execution_count": 48,
   "metadata": {},
   "outputs": [
    {
     "name": "stdout",
     "output_type": "stream",
     "text": [
      "[4, 8, 1, 9]\n",
      "Cows: 2, Bulls: 1\n",
      "Cows: 1, Bulls: 1\n",
      "Cows: 0, Bulls: 1\n",
      "Cows: 2, Bulls: 1\n",
      "Wrong input. Only accept 4 digits number\n",
      "Cows: 2, Bulls: 1\n",
      "Cows: 2, Bulls: 1\n",
      "Cows: 0, Bulls: 3\n",
      "Cows: 0, Bulls: 3\n",
      "Cows: 4, Bulls: 0\n",
      "Congratulations, you guess the right number.\n"
     ]
    }
   ],
   "source": [
    "# Cows And Bulls\n",
    "import random\n",
    "\n",
    "ranNum = [int(a) for a in str(random.randint(1000, 9999))]\n",
    "\n",
    "def getInput():\n",
    "    while True:\n",
    "        num = input(\"Guess the number (4 digits only\")\n",
    "        if num.isdigit() and len(num) == 4:\n",
    "            return [int(digit) for digit in num]\n",
    "        else:\n",
    "            print(\"Wrong input. Only accept 4 digits number\")\n",
    "            \n",
    "print(ranNum)\n",
    "while True:\n",
    "    userNum = getInput()\n",
    "    cows= 0\n",
    "    bulls= 0\n",
    "    for i in range(4):\n",
    "        right_space = []\n",
    "        if userNum[i] == ranNum[i]:\n",
    "            cows+=1\n",
    "            right_space.append(userNum[i])\n",
    "        elif userNum[i] in ranNum and userNum[i] not in right_space:\n",
    "            bulls+=1        \n",
    "    \n",
    "    print(f\"Cows: {cows}, Bulls: {bulls}\")\n",
    "    \n",
    "    if cows == 4:\n",
    "        print(\"Congratulations, you guess the right number.\")\n",
    "        break\n",
    "    \n",
    "        \n",
    "            \n",
    "    \n",
    "    "
   ]
  },
  {
   "cell_type": "code",
   "execution_count": 51,
   "metadata": {},
   "outputs": [],
   "source": [
    "# Decode A Web Page Two\n",
    "import requests\n",
    "from bs4 import BeautifulSoup\n",
    "\n",
    "base_url = \"https://www.vanityfair.com/style/society/2014/06/monica-lewinsky-humiliation-culture\"\n",
    "r = requests.get(base_url)\n",
    "\n",
    "\n",
    "        "
   ]
  }
 ],
 "metadata": {
  "kernelspec": {
   "display_name": "Python 3",
   "language": "python",
   "name": "python3"
  },
  "language_info": {
   "codemirror_mode": {
    "name": "ipython",
    "version": 3
   },
   "file_extension": ".py",
   "mimetype": "text/x-python",
   "name": "python",
   "nbconvert_exporter": "python",
   "pygments_lexer": "ipython3",
   "version": "3.12.1"
  }
 },
 "nbformat": 4,
 "nbformat_minor": 2
}
