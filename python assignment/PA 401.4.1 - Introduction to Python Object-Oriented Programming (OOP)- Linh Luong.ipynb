{
 "cells": [
  {
   "cell_type": "code",
   "execution_count": 14,
   "metadata": {},
   "outputs": [],
   "source": [
    "'''\n",
    "Task 1: Creating a Simple Class\n",
    "\n",
    "Open a new Python script file.\n",
    "Define a class named Person with a constructor method (__init__) taking name and age parameters.\n",
    "Inside the constructor, initialize attributes name and age with the provided parameters.\n",
    "Print a message inside the constructor to indicate the creation of a person object.\n",
    "\n",
    "'''\n",
    "\n",
    "class Person:\n",
    "    def __init__(self, name, age):\n",
    "        self.name = name\n",
    "        self.age = age\n",
    "        self.__secret = \"X-men\"\n",
    "        print(\"Person info created\")\n",
    "        \n",
    "    def display_info(self):\n",
    "        print(f\"Name: {self.name}\")\n",
    "        print(f\"Age: {self.age}\")\n",
    "        \n",
    "    def reveal_secret(self):\n",
    "        return self.__secret"
   ]
  },
  {
   "cell_type": "code",
   "execution_count": 15,
   "metadata": {},
   "outputs": [],
   "source": [
    "'''\n",
    "Task 2: Inheritance - Extending the Class\n",
    "\n",
    "Below the Person class, define a subclass named Student.\n",
    "In the Student class, create a constructor method (__init__) with additional parameter student_id.\n",
    "Use super().__init__(name, age) inside the Student constructor to call the constructor of the parent class.\n",
    "Initialize the student_id attribute with the provided parameter.\n",
    "Print a message inside the Student constructor to indicate the creation of a student object.\n",
    "\n",
    "\n",
    "'''\n",
    "class Student(Person):\n",
    "    def __init__(self, name, age, student_id):\n",
    "        super().__init__(name, age)\n",
    "        self.student_id = student_id\n",
    "        print(\"Student info added\")\n",
    "        \n",
    "    def display_info(self):\n",
    "        print(f\"Student ID: {self.student_id}\")\n",
    "        super().display_info()\n",
    "        \n",
    "    def reveal_secret(self):\n",
    "        return self.__secret\n"
   ]
  },
  {
   "cell_type": "code",
   "execution_count": null,
   "metadata": {},
   "outputs": [],
   "source": [
    "'''\n",
    "Task 3: Polymorphism - Adding Methods\n",
    "\n",
    "In both the Person and Student classes, create a method named display_info.\n",
    "In the Person class method, print the person's name and age.\n",
    "In the Student class method, override the display_info method to include the student ID and call the parent class method using super().display_info().\n",
    "\n",
    "'''\n",
    "'''\n",
    "Task 4: Encapsulation - Private Attribute\n",
    "\n",
    "Inside the Person class, add a private attribute named __secret with an initial value.\n",
    "Create a method named reveal_secret inside the Person class that prints the value of __secret.\n",
    "Outside the class, attempt to access the private attribute directly.\n",
    "\n",
    "'''"
   ]
  },
  {
   "cell_type": "code",
   "execution_count": 24,
   "metadata": {},
   "outputs": [
    {
     "name": "stdout",
     "output_type": "stream",
     "text": [
      "Person info created\n",
      "Person info created\n",
      "Student info added\n",
      "Name: Tony\n",
      "Age: 23\n",
      "Student ID: 1234\n",
      "Name: Linh\n",
      "Age: 33\n",
      "Tony Secret: X-men\n"
     ]
    }
   ],
   "source": [
    "person1 = Person(\"Tony\", 23)\n",
    "student1 = Student(\"Linh\", 33, 1234)\n",
    "person1.display_info()\n",
    "student1.display_info()\n",
    "print(f\"{person1.name} Secret:\", person1.reveal_secret())"
   ]
  },
  {
   "cell_type": "code",
   "execution_count": 22,
   "metadata": {},
   "outputs": [
    {
     "ename": "AttributeError",
     "evalue": "'Person' object has no attribute '__secret'",
     "output_type": "error",
     "traceback": [
      "\u001b[1;31m---------------------------------------------------------------------------\u001b[0m",
      "\u001b[1;31mAttributeError\u001b[0m                            Traceback (most recent call last)",
      "Cell \u001b[1;32mIn[22], line 1\u001b[0m\n\u001b[1;32m----> 1\u001b[0m \u001b[38;5;28mprint\u001b[39m(\u001b[43mperson1\u001b[49m\u001b[38;5;241;43m.\u001b[39;49m\u001b[43m__secret\u001b[49m) \u001b[38;5;66;03m# attempt to access private attribute directly\u001b[39;00m\n",
      "\u001b[1;31mAttributeError\u001b[0m: 'Person' object has no attribute '__secret'"
     ]
    }
   ],
   "source": [
    "print(person1.__secret) # attempt to access private attribute directly"
   ]
  }
 ],
 "metadata": {
  "kernelspec": {
   "display_name": "Python 3",
   "language": "python",
   "name": "python3"
  },
  "language_info": {
   "codemirror_mode": {
    "name": "ipython",
    "version": 3
   },
   "file_extension": ".py",
   "mimetype": "text/x-python",
   "name": "python",
   "nbconvert_exporter": "python",
   "pygments_lexer": "ipython3",
   "version": "3.12.1"
  }
 },
 "nbformat": 4,
 "nbformat_minor": 2
}
