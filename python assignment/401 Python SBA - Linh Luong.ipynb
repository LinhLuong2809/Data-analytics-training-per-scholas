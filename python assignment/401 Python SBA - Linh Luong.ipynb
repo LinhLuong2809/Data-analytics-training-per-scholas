{
 "cells": [
  {
   "cell_type": "code",
   "execution_count": 21,
   "metadata": {},
   "outputs": [
    {
     "name": "stdout",
     "output_type": "stream",
     "text": [
      "factorial number of 5 is 120\n"
     ]
    }
   ],
   "source": [
    "# Linh Luong\n",
    "# Please run the code in each block one by one to execute each program. \n",
    "# I also submited my_secret file and module to calculate interest. Please download and put them all together in your python working environment\n",
    "\n",
    "'''\n",
    "1. Python Basics Review - 10%\n",
    "Write a Python program that calculates the factorial of a number given from a user input.\n",
    "Write a python program that takes input from the user and checks if a given string is a palindrome.\n",
    "Write a python script that takes a string input from the user and splits the characters into a list and prints them. \n",
    "\n",
    "'''\n",
    "# Python program that calculates the factorial of a number given from a user input\n",
    "\n",
    "try:\n",
    "    factorial = 1 # set factorial variable to default 1\n",
    "    while True: # Start the loop to make sure user give the right input, number can't be negative \n",
    "        \n",
    "        num = int(input(\"Enter factorial number: \")) # ask user for input and make sure it's integer input, if string it will give error\n",
    "        value = num # set value variable to store the innitial number for printing purpose\n",
    "        if num < 0: # set condition if number is negative then print this line\n",
    "            print(\"Factorial cannot be negative number. Please choose again.\")\n",
    "        elif num == 0: # if user input is 0 then break the loops and factorial result will be default as 1\n",
    "            break\n",
    "        else: # if user input is > 0 then break the loop\n",
    "            break\n",
    "\n",
    "    while num > 0:  # while loop to start calculating factorial number if input > 0\n",
    "        factorial *=num # factorial multiply with given number\n",
    "        num -= 1 # decrease number value 1 each time till 0\n",
    "\n",
    "    print(f\"factorial number of {value} is {factorial}\") # print out result statement\n",
    "    \n",
    "except ValueError : # when user input string value but not number it will print out this line and end the program\n",
    "    print(\"Please enter number not string.\")\n",
    "    \n"
   ]
  },
  {
   "cell_type": "code",
   "execution_count": 23,
   "metadata": {},
   "outputs": [
    {
     "name": "stdout",
     "output_type": "stream",
     "text": [
      "'no radar' is not a palindrome!\n"
     ]
    }
   ],
   "source": [
    "# python program that takes input from the user and checks if a given string is a palindrome.\n",
    "\n",
    "def palindrome(text): # define function to check if a given string is a palindrome by taking the string as parameter\n",
    "    sortText = \"\".join(text.split()).lower() # define a variable to join the orignial message, get rid of space and set them in lowercase.\n",
    "    reverseText = sortText[::-1] # slicing backward the text and store to reverseText\n",
    "    return reverseText == text # return the boolean value to the function when comparing original string with palindrome string. If they are the same then return True, otherwise return False.\n",
    "\n",
    "text = input(\"Enter your phrases or sentences to check for palindrome: \") # promt user for string input \n",
    "\n",
    "if palindrome(text): # use if condition and call palindrome function. If return value is True then print output accordingly\n",
    "    print(f\"'{text}' is a palindrome!\")\n",
    "else:  \n",
    "    print(f\"'{text}' is not a palindrome!\")\n"
   ]
  },
  {
   "cell_type": "code",
   "execution_count": 25,
   "metadata": {},
   "outputs": [
    {
     "name": "stdout",
     "output_type": "stream",
     "text": [
      "['l', 'o', 'v', 'e', ' ', 'y', 'o', 'u']\n"
     ]
    }
   ],
   "source": [
    "# python script that takes a string input from the user and splits the characters into a list and prints them.\n",
    "\n",
    "text = input(\"Enter your String input: \")  # promt user for input\n",
    "\n",
    "charList = [] # create a list to store characters\n",
    "for i in range(len(text)): # for loop to loop through the text \n",
    "    charList.append(text[i]) # add each charaters from string input to charList \n",
    "\n",
    "print(charList) # print all the characters from the string that stored in the charList"
   ]
  },
  {
   "cell_type": "code",
   "execution_count": 26,
   "metadata": {},
   "outputs": [
    {
     "name": "stdout",
     "output_type": "stream",
     "text": [
      "Your integer list: [25, 125, 215, 215, 44, 556, 4]\n",
      "Your max integer is: 556\n",
      "Your min integer is: 4\n",
      "The sum of your integer list is: 1184\n",
      "Your interger list sort in ascending order: [4, 25, 44, 125, 215, 215, 556]\n"
     ]
    }
   ],
   "source": [
    "'''\n",
    "2. Built-In Functions and Modules - 10%\n",
    "Working with Built-In Functions:\n",
    "●\tWrite a Python script that uses built-in functions to process a list of integers. Use max, min, sum, sort functions.\n",
    "\n",
    "'''\n",
    "import string # import string package\n",
    "numList = [] # list to contain user integer\n",
    "\n",
    "while True: # loop to prompt user for input\n",
    "    num = input(\"Enter the number for your list (to exit give string input or any key but number): \")\n",
    "    if not num.isalpha() and num not in string.punctuation: # condition to check for input is not string or contain any punctuation \n",
    "        numList.append(int(num)) # convert input to int type and add to the list\n",
    "    else:\n",
    "        break # if user press any key but number then break the loop\n",
    "\n",
    "print(f\"Your integer list: {(numList)}\")    # print the list\n",
    "print(f\"Your max integer is: {max(numList)}\")  # print the highest value \n",
    "print(f\"Your min integer is: {min(numList)}\") # print the lowest value \n",
    "print(f\"The sum of your integer list is: {sum(numList)}\") # print the sum of all the integer in the list\n",
    "sortList = sorted(numList) # sort the list in ascending order\n",
    "print(f\"Your interger list sort in ascending order: {sortList}\") # print the sorted list"
   ]
  },
  {
   "cell_type": "code",
   "execution_count": 33,
   "metadata": {},
   "outputs": [
    {
     "name": "stdout",
     "output_type": "stream",
     "text": [
      "Principal amount =  2000\n",
      "Interest rate =  4\n",
      "Time period  =  2\n",
      "Simple Interest =  160.0\n",
      "Compound Interest =  163.2\n"
     ]
    }
   ],
   "source": [
    "# to make it simple i set a fix number for testing purpose instead of asking user for input. Feel free to adjust the number in the code.\n",
    "\n",
    "'''\n",
    "3. Using Modules - 10%\n",
    "●\tCreate a Python module that includes functions for calculating simple interest and compound interest.\n",
    "●\tWrite a script that imports and uses the module created before to perform the interest calculations\n",
    "'''\n",
    "import Interest_calculate # import the module\n",
    "\n",
    "principal_amount = 2000 # set principal amount\n",
    "interest_rate = 4 # set interest rate\n",
    "time_period = 2 # set time period\n",
    "\n",
    "simpleInterest = Interest_calculate.calculate_simple_interest(principal_amount, interest_rate, time_period) # call module and function to calculate simple interest\n",
    "\n",
    "compound_interest = Interest_calculate.calculate_compound_interest(principal_amount, interest_rate, time_period) # call module and function to calculate compound interest\n",
    "\n",
    "# print the out put for everything\n",
    "print(\"Principal amount = \", principal_amount) \n",
    "print(\"Interest rate = \", interest_rate)\n",
    "print(\"Time period  = \", time_period)\n",
    "print(\"Simple Interest = \", simpleInterest)\n",
    "print(\"Compound Interest = \", round(compound_interest, 1))"
   ]
  },
  {
   "cell_type": "code",
   "execution_count": 10,
   "metadata": {},
   "outputs": [
    {
     "name": "stdout",
     "output_type": "stream",
     "text": [
      "This is your list ['linh', '21', '343', 'faad', '421']\n",
      "Your list after adding two extra elements ['linh', '21', '343', 'faad', '421', '32', '21']\n",
      "Your list after taking out the element:  ['21', '343', 'faad', '421', '32', '21']\n",
      "This is your dictionary {'ksad': 'fa', 'kjfda': 'kk', 'linh': 'daf'}\n",
      "Your dictionary after removing one key:  {'ksad': 'fa', 'kjfda': 'kk'}\n",
      "String:  Hello World\n",
      "String UPPER case:  HELLO WORLD\n",
      "Sring lower case:  hello world\n",
      "String after splitting:  ['Hello', 'World']\n"
     ]
    }
   ],
   "source": [
    "'''\n",
    "4. Data Structures  - 15%\n",
    "\n",
    "Data Manipulation with Lists, Dictionaries, and Strings\n",
    "Write a Python program that performs the following operations on lists, dictionaries, and strings:\n",
    "○\tCreate a list containing at least five elements.\n",
    "○\tAdd two new elements to the list.\n",
    "○\tRemove one element from the list.\n",
    "○\tCreate a dictionary with at least three key-value pairs.\n",
    "○\tAdd a new key-value pair to the dictionary.\n",
    "○\tRemove one key-value pair from the dictionary.\n",
    "○\tCreate a string with the value “Hello World”. \n",
    "○\tUse uppercase and lowercase functions to convert it. \n",
    "○\tCall the split method on the string to print a list of substrings. \n",
    "\n",
    "'''\n",
    "list = [] # create an empty list to store elements\n",
    "for i in range(5): # use for loop to ask user for 5 input for the list\n",
    "    elem = input(f\"What's your {i +1} element to add to the list? \")\n",
    "    list.append(elem)\n",
    "print(\"This is your list\", list) # print out the list to make sure all your elements were added to the list\n",
    "\n",
    "for i in range(2): # loop again to ask user for 2 extra element to add to the list\n",
    "    add = input(\"What is your {i +1} element to add extra to this list? \")\n",
    "    list.append(add)\n",
    "\n",
    "print(\"Your list after adding two extra elements\", list)\n",
    "try: # try except function to throw out the error \n",
    "    while True: # loop to prompt user for input\n",
    "        num = int(input(f\"Enter the index element you want to remove from your list (0 - {len(list) - 1}): \")) # ask for index number \n",
    "        if num >= 0 and num<len(list): # condition to check for input is in the range of the list \n",
    "            list.pop(num) # take out the element base on the index number\n",
    "            break # break the loop\n",
    "        else:\n",
    "            print(\"Wrong input, please choose index number only\") # if user input number out of index range, prompt user to input again till it within the range\n",
    "except ValueError:\n",
    "    print(\"Wrong input, please enter number only\") # if user input string or anything but number then print out this error and end the program\n",
    "   \n",
    "print(\"Your list after taking out the element: \", list) # print the list again with element remove to check if you remove the right element\n",
    "\n",
    "# ____________________________________________________end of list program__________________________________________________________________________________ \n",
    "\n",
    "dict = {} # create an empty dictionary\n",
    "for i in range(3): # use for loop to ask user for 3 pair of key and value to add to dictionary\n",
    "    key = input(f\"What's your {i +1} key for the dictionary? \") # ask for key input\n",
    "    value = input(f\"What's your {i +1} value for the dictionary? \") # ask for value input\n",
    "    dict[key] = value # insert key:value to the dictionary\n",
    "    \n",
    "print(\"This is your dictionary\", dict)    # print the dictionary to check if all key-value added correctly\n",
    "\n",
    "rem = input(\"Choose the key you want to remove from your dictionary: \") # ask user for the key they want to remove from the dictionary\n",
    "if rem in dict: # check if the key in the dictionary\n",
    "    del dict[rem] # delete the key from dictionary if it's in there\n",
    "    print(\"Your dictionary after removing one key: \", dict) # print out the dictionary again to check if key:value was removed correctly\n",
    "else: # if not print out this message\n",
    "    print(\"key not in the dictionary\")    \n",
    " \n",
    " \n",
    "#______________________________________________________end of dictionary program______________________________________________________________________________\n",
    "\n",
    "string = \"Hello World\" # create the string that hold value Hello World\n",
    "upper = string.upper() # call upper case on string\n",
    "lower = string.lower() # call lower case on string \n",
    "stringsplit = string.split() # split the string and store in a list\n",
    "print(\"String: \", string) # print string\n",
    "print(\"String UPPER case: \", upper) # print string in upper case\n",
    "print(\"Sring lower case: \", lower) # print string in lower case\n",
    "print(\"String after splitting: \", stringsplit) # print string after splitting into substrings"
   ]
  },
  {
   "cell_type": "code",
   "execution_count": 12,
   "metadata": {},
   "outputs": [
    {
     "name": "stdout",
     "output_type": "stream",
     "text": [
      "Company location: \n",
      "City: Silicon Valley - State: California - Country: USA\n",
      "\n",
      "Founders: \n",
      "name: John Smith - role: CEO\n",
      "name: Emily Davis - role: CTO\n",
      "\n",
      "Products:\n",
      "Product name: TechGadget X - category: Electronics\n",
      "Product name: DataAnalyzer Pro - category: Software\n",
      "\n",
      "create company_data.json file\n",
      "Loading data into company_data.json file\n",
      "Loading..........\n",
      "company_data.json file was successfully created\n"
     ]
    }
   ],
   "source": [
    "# I put the sba.jason file in the same location with my python working environment. Please put it in your python working environment for easier testing purpose\n",
    "'''\n",
    "5. Processing JSON Data - 10%\n",
    "\n",
    "Extracting and Writing Relevant Information\n",
    "Develop a Python script that reads JSON data from a file (sba.json) extracts specific information, and writes it to another JSON file. Consider \"relevant data\" as the following for the provided JSON structure:\n",
    "●\tExtract the information related to the company's location (city, state, country).\n",
    "●\tExtract the names and roles of the founders.\n",
    "●\tExtract information about the products, including product names and categories.\n",
    "Write the extracted information to a new JSON file in a structured format.\n",
    "\n",
    "Note: Include comments in your script explaining the criteria you used to determine the \"relevant data\" and the structure of the new JSON file.\n",
    "\n",
    "'''\n",
    "import json\n",
    "\n",
    "company_data = {} # company dictionary to store information to dump to json file later\n",
    "\n",
    "#company_data['company'] = [] # define key: 'company' and store value as an empty list to add value for later.\n",
    "\n",
    "with open(\"sba.json\", 'r') as file: # open the json file\n",
    "    jsonfile = json.load(file) # load json file to python\n",
    "    \n",
    "    for key, value in jsonfile.items(): # for loops to loop through jsonfile and search for key and value\n",
    "        if key == 'location': # condition if the key is location then execute the code \n",
    "            print(f\"Company location: \")        # print out title company location\n",
    "            print(f\"City: {value['city']} - State: {value['state']} - Country: {value['country']}\") # extract data for company location : city, state and country\n",
    "            company_data['location'] = value # set 'location' as key and add the extracted data as value and store in company data dictionary\n",
    "            print() # print empty space for clearer view\n",
    "            \n",
    "        elif key == 'founders': # elif condition when the key is 'founders'\n",
    "            print(\"Founders: \") # print title\n",
    "            company_data['founders'] = [] # define the key 'founders' and set value as an empty list to add extracted data later\n",
    "            \n",
    "            for i in range(len(value)): # loops through the value list in the key 'founders'\n",
    "                person = {} # create a person dictionary to store the founder information \n",
    "                print(f\"name: {value[i]['name']} - role: {value[i]['role']}\") # extract required data: name and role of the founders\n",
    "                person['name'] = value[i]['name'] # create key 'name' add value name of the founder to person dictionary\n",
    "                person['role'] = value[i]['role'] # create key 'role' add founder role to person dictionary\n",
    "                company_data['founders'].append(person) # set the key as 'founders' for company_data and append all the data created in person dictionary into the value list. We will write these data to our json file later \n",
    "            print()\n",
    "    \n",
    "        elif key == 'products': # condition if the key is 'products'\n",
    "            company_data['products'] = [] # define the key 'products' and set value as an empty list to add extract data later for company_data dictionary. We gonna use this dictionary to write relevant data for our json file\n",
    "            \n",
    "            print(\"Products:\") # print title\n",
    "            for i in range(len(value)): # the loops is working exactly as the code above for founders with the same purpose. This time we stored extracted data from products and store them in company_data dictionary\n",
    "                product = {}\n",
    "                print(f\"Product name: {value[i]['product_name']} - category: {value[i]['category']}\")\n",
    "                product['product_name'] = value[i]['product_name'] \n",
    "                product['category'] = value[i]['category']\n",
    "                company_data['products'].append(product)  \n",
    "            print()\n",
    "    \n",
    "    \n",
    "# this code will create a json file name company_data.json     \n",
    "with open('company_data.json', 'w') as jsonFile:\n",
    "    \n",
    "    print(\"create company_data.json file\")\n",
    "    print(\"Loading data into company_data.json file\")\n",
    "    print(\"Loading..........\")\n",
    "\n",
    "    # The new json file will contain 'location' as key and value are the list of dictionary with ciy state country as keys, 'founders' will be the second key and its value is the list of dictionary with name, role as key. The last key is 'product' which will have value as a list of dictionary with product_name and category as key\n",
    "    json.dump(company_data, jsonFile) # write all data to json file using dictionary company_data\n",
    "   \n",
    "\n",
    "    print(\"company_data.json file was successfully created\")"
   ]
  },
  {
   "cell_type": "code",
   "execution_count": 34,
   "metadata": {},
   "outputs": [
    {
     "name": "stdout",
     "output_type": "stream",
     "text": [
      "Tables in classsicmodels database: \n",
      "customer_contact\n",
      "customer_order\n",
      "customer_payment\n",
      "customers\n",
      "employees\n",
      "expenses\n",
      "high_value_customers\n",
      "logupdate\n",
      "offices\n",
      "orderdetails\n",
      "orders\n",
      "payments\n",
      "productlines\n",
      "products\n",
      "temp_view\n",
      "top2003products\n",
      "\n",
      "customerNumber | customerName | contactLastName | contactFirstName | phone | addressLine1 | addressLine2 | city | state | postalCode | country | salesRepEmployeeNumber | creditLimit\n",
      "103   | Atelier graphique   | Schmitt   | Carine    | 40.32.2555   | 54, rue Royale   | None   | Nantes   | None   | 44000   | France   | 1370   | 21000.00\n",
      "112   | Signal Gift Stores   | King   | Jean   | 7025551838   | 8489 Strong St.   | None   | Las Vegas   | NV   | 83030   | USA   | 1166   | 71800.00\n",
      "114   | Australian Collectors, Co.   | Ferguson   | Peter   | 03 9520 4555   | 636 St Kilda Road   | Level 3   | Melbourne   | Victoria   | 3004   | Australia   | 1611   | 117300.00\n",
      "119   | La Rochelle Gifts   | Labrune   | Janine    | 40.67.8555   | 67, rue des Cinquante Otages   | None   | Nantes   | None   | 44000   | France   | 1370   | 118200.00\n",
      "121   | Baane Mini Imports   | Bergulfsen   | Jonas    | 07-98 9555   | Erling Skakkes gate 78   | None   | Stavern   | None   | 4110   | Norway   | 1504   | 81700.00\n",
      "124   | Mini Gifts Distributors Ltd.   | Nelson   | Susan   | 4155551450   | 5677 Strong St.   | None   | San Rafael   | CA   | 97562   | USA   | 1165   | 210500.00\n",
      "125   | Havel & Zbyszek Co   | Piestrzeniewicz   | Zbyszek    | (26) 642-7555   | ul. Filtrowa 68   | None   | Warszawa   | None   | 01-012   | Poland   | None   | 0.00\n",
      "128   | Blauer See Auto, Co.   | Keitel   | Roland   | +49 69 66 90 2555   | Lyonerstr. 34   | None   | Frankfurt   | None   | 60528   | Germany   | 1504   | 59700.00\n",
      "129   | Mini Wheels Co.   | Murphy   | Julie   | 6505555787   | 5557 North Pendale Street   | None   | San Francisco   | CA   | 94217   | USA   | 1165   | 64600.00\n",
      "131   | Land of Toys Inc.   | Lee   | Kwai   | 2125557818   | 897 Long Airport Avenue   | None   | NYC   | NY   | 10022   | USA   | 1323   | 114900.00\n"
     ]
    }
   ],
   "source": [
    "'''\n",
    "6. Interacting with Relational Databases: - 10%\n",
    "●\tEstablish a connection to the classicmodels database using your preferred SQL client or programming language.\n",
    "●\tRetrieve a list of all tables in the classicmodels database.\n",
    "●\tExecute a simple SELECT query on the customers table to display information of 10 customers.\n",
    "\n",
    "'''\n",
    "\n",
    "import mysql.connector # import myqsl connector to connect to database\n",
    "import my_secrets # import secret file contain username and password. Change the user and password as it fit for your local machine \n",
    "\n",
    "# connect with myqsl server \n",
    "conn = mysql.connector.connect(\n",
    "    host= \"localhost\",\n",
    "    port= 3306,\n",
    "    user= my_secrets.mysql_username,\n",
    "    password= my_secrets.mysql_password,\n",
    "    database= \"classicmodels\") \n",
    "\n",
    "cursor = conn.cursor() # create cursor to execute sql query\n",
    "\n",
    "# This code execute query show tables and print out all the name of the table\n",
    "cursor.execute(\"SHOW TABLES\") # execute query\n",
    "tables = cursor.fetchall() # fetch all data to tables\n",
    "print(\"Tables in classsicmodels database: \")\n",
    "for table in tables: # for loop to print out each table names\n",
    "    print(table[0])\n",
    "print()\n",
    "\n",
    "# this code block execute select query on customer table to display customer information\n",
    "cursor.execute(\"Select * from customers limit 10\")\n",
    "columns = [col[0] for col in cursor.description] # for better view purpose i print out the headline of the column by parsing all column title using cursor description at index 0\n",
    "print(\" | \".join(columns)) # print out the title and separate with | for prettier output\n",
    "rows = cursor.fetchall() # fetch all row of customers table\n",
    "for row in rows: # for loop to print out each customers info and using join map | for prettier result\n",
    "    print(\"   | \".join(map(str, row)))\n"
   ]
  },
  {
   "cell_type": "code",
   "execution_count": 35,
   "metadata": {},
   "outputs": [
    {
     "name": "stdout",
     "output_type": "stream",
     "text": [
      "orderNumber | orderDate | requiredDate | shippedDate | status | comments | customerNumber\n",
      "10100   | 2003-01-06   | 2003-01-13   | 2003-01-10   | Shipped   | good   | 363\n",
      "10101   | 2003-01-09   | 2003-01-18   | 2003-01-11   | Shipped   | Check on availability.   | 128\n",
      "10102   | 2003-01-10   | 2003-01-18   | 2003-01-14   | Shipped   | None   | 181\n",
      "10103   | 2003-01-29   | 2003-02-07   | 2003-02-02   | Shipped   | None   | 121\n",
      "10104   | 2003-01-31   | 2003-02-09   | 2003-02-01   | Shipped   | None   | 141\n",
      "10105   | 2003-02-11   | 2003-02-21   | 2003-02-12   | Shipped   | None   | 145\n",
      "10106   | 2003-02-17   | 2003-02-24   | 2003-02-21   | Shipped   | None   | 278\n",
      "10107   | 2003-02-24   | 2003-03-03   | 2003-02-26   | Shipped   | Difficult to negotiate with customer. We need more marketing materials   | 131\n",
      "10108   | 2003-03-03   | 2003-03-12   | 2003-03-08   | Shipped   | None   | 385\n",
      "10109   | 2003-03-10   | 2003-03-19   | 2003-03-11   | Shipped   | Customer requested that FedEx Ground is used for this shipping   | 486\n",
      "\n",
      "Dropped existing high_value_customers table\n",
      "high_value_customers table successfully created\n"
     ]
    }
   ],
   "source": [
    "'''\n",
    "7. Database Operations - 10%\n",
    "Showcase your skills in retrieving and manipulating data from the classicmodels database:\n",
    "●\tWrite a SQL query to retrieve the first 10 records from the orders table.\n",
    "●\tCreate a new table named high_value_customers that includes customers with a credit limit greater than $50,000 from the customers table.\n",
    "●\tIf the column productLine has the value of ‘Motorcycles’ within productlines table, then change the “textDescription” value to 'Motor Bikes.'\n",
    "●\tWrite an SQL query to delete all the records from the 'orderdetails' table where the 'orderLineNumber' is equal to 1.\n",
    "(Hint: Yes, this will delete the first item in EVERY single Order in the orders table.)\n",
    "\n",
    "'''\n",
    "cursor = conn.cursor()\n",
    "cursor.execute(\"Select * from orders limit 10\") # query to select first 10 order \n",
    "columns = [col[0] for col in cursor.description] # for better view purpose i print out the headline of the column by parsing all column title using cursor description at index 0\n",
    "print(\" | \".join(columns)) # print out the title and separate with | for prettier output using join\n",
    "rows = cursor.fetchall() # fetch all row \n",
    "for row in rows: # for loop to print out \n",
    "    print(\"   | \".join(map(str, row)))\n",
    "print()\n",
    "\n",
    "# for easier testing purpose i write this code to delete the table if it exists    \n",
    "cursor.execute(\"SHOW TABLES LIKE 'high_value_customers'\")\n",
    "table_exists = cursor.fetchone()\n",
    "if table_exists:\n",
    "    cursor.execute(\"DROP TABLE IF EXISTS high_value_customers\")\n",
    "    print(\"Dropped existing high_value_customers table\")\n",
    "\n",
    "# Query code to create table high value customer with credit limit > 50000\n",
    "create_table_query = \"CREATE TABLE IF NOT EXISTS high_value_customers AS SELECT * FROM customers WHERE creditLimit > 50000;\"\n",
    "cursor.execute(create_table_query)\n",
    "conn.commit() # commit the change to mysql\n",
    "print(\"high_value_customers table successfully created\")\n",
    "\n",
    "# Query code to update productlines table iti set Motorcycles to Motor Bikes from textDescription\n",
    "update_query = \"UPDATE productLines SET textDescription = 'Motor Bikes' WHERE productLine = 'Motorcycles';\"\n",
    "cursor.execute(update_query)\n",
    "\n",
    "# Commit the changes\n",
    "conn.commit()"
   ]
  },
  {
   "cell_type": "code",
   "execution_count": 36,
   "metadata": {},
   "outputs": [
    {
     "name": "stdout",
     "output_type": "stream",
     "text": [
      "All orders with orderlinenumber = 1 deleted.\n"
     ]
    }
   ],
   "source": [
    "# Delete query \n",
    "cursor.execute(\"DELETE FROM orderdetails where orderlineNumber = 1\")\n",
    "print(\"All orders with orderlinenumber = 1 deleted.\")\n",
    "# Commit the changes\n",
    "conn.commit()\n",
    "conn.close()"
   ]
  },
  {
   "cell_type": "code",
   "execution_count": 37,
   "metadata": {},
   "outputs": [
    {
     "name": "stdout",
     "output_type": "stream",
     "text": [
      "[ 2  4  6  8 10]\n",
      "[[1 2 3]\n",
      " [4 5 6]\n",
      " [7 8 9]]\n",
      "array 1D shape:  (5,)\n",
      "array 1D size:  5\n",
      "array 1D type:  int32\n",
      "array 2D shape:  (5,)\n",
      "array 2D size:  5\n",
      "array 2D type:  int32\n"
     ]
    }
   ],
   "source": [
    "'''\n",
    "8. Numpy Operations for Arrays- 15%\n",
    "\n",
    "Numpy Operations:\n",
    "\n",
    "Write a Python program that performs the following: \n",
    "●\tCreating NumPy Arrays\n",
    "    ○\tCreate a 1D NumPy array from a Python list [2, 4, 6, 8, 10].\n",
    "    ○\tCreate a 2D NumPy array from a nested Python list [[1, 2, 3], [4, 5, 6], [7, 8, 9]].\n",
    "    ○   Check the attributes of both arrays, such as shape, size, and data type.\n",
    "\n",
    "'''\n",
    "\n",
    "import numpy as np\n",
    "\n",
    "# create our array using numpy\n",
    "arr1d = np.array([2,4,6,8,10])                      # create 1D array\n",
    "arr2d = np.array([[1, 2, 3], [4, 5, 6], [7, 8, 9]]) # create 2D \n",
    "\n",
    "# print out the array to check we created the array succesfully\n",
    "print(arr1d) \n",
    "print(arr2d)\n",
    "\n",
    "# check attribute for both arrays\n",
    "print(\"array 1D shape: \", arr1d.shape)  # print out shape for array 1D by calling shape method\n",
    "print(\"array 1D size: \", arr1d.size)    # print out size for array 1D by calling size method\n",
    "print(\"array 1D type: \", arr1d.dtype)   # print out type for array 1D by calling dtype method\n",
    "print(\"array 2D shape: \", arr1d.shape)  # print out shape for array 2D by calling shape method\n",
    "print(\"array 2D size: \", arr1d.size)    # print out size for array 2D by calling size method\n",
    "print(\"array 2D type: \", arr1d.dtype)   # print out type for array 2D by calling dtype method\n"
   ]
  },
  {
   "cell_type": "code",
   "execution_count": 38,
   "metadata": {},
   "outputs": [
    {
     "name": "stdout",
     "output_type": "stream",
     "text": [
      "Element at index 3 from the 1D array:  8\n",
      "Second column of the 2D array:  [2 5 8]\n",
      "Elements greater than 5 in 1D array:  [ 6  8 10]\n"
     ]
    }
   ],
   "source": [
    "'''\n",
    "●\tIndexing and Slicing\n",
    "    ○\tAccess and print the element at index 3 from the 1D array.\n",
    "    ○\tSlice the 2D array to extract the second column.\n",
    "    ○\tUse boolean indexing to filter elements greater than 5 from the 1D array.\n",
    "    \n",
    "'''\n",
    "\n",
    "print(\"Element at index 3 from the 1D array: \", arr1d[3])       # slicing the result at index 3 in array 1D\n",
    "print(\"Second column of the 2D array: \", arr2d[:,1])            # slicing the second column from array 2D\n",
    "print(\"Elements greater than 5 in 1D array: \", arr1d[arr1d>5])  # print out only the elements that greater than 5 in 1D array\n"
   ]
  },
  {
   "cell_type": "code",
   "execution_count": 39,
   "metadata": {},
   "outputs": [
    {
     "name": "stdout",
     "output_type": "stream",
     "text": [
      "Add 2 to array 1d:  [ 4  6  8 10 12]\n",
      "Subtract 2 from array 1d:  [0 2 4 6 8]\n",
      "Multiply 2 to array 1d:  [ 4  8 12 16 20]\n",
      "Divide 2 from array 1d:  [1. 2. 3. 4. 5.]\n",
      "Square root function apply to 1D array using numpy:  [1.41421356 2.         2.44948974 2.82842712 3.16227766]\n"
     ]
    }
   ],
   "source": [
    "'''\n",
    "●\tArithmetic Operations\n",
    "    ○\tPerform element-wise addition, subtraction, multiplication, and division on the 1D array.\n",
    "    ○\tApply the square root function to the 1D array using NumPy.\n",
    "    \n",
    "'''\n",
    "print(\"Add 2 to array 1d: \", arr1d + 2)                                         # add 2 into array 1D   \n",
    "print(\"Subtract 2 from array 1d: \", arr1d - 2)                                  # substract 2 from array 1D \n",
    "print(\"Multiply 2 to array 1d: \", arr1d * 2)                                    # multiply 2 into array 1D \n",
    "print(\"Divide 2 from array 1d: \", (arr1d / 2))                                  # divide 2 from array 1D\n",
    "print(\"Square root function apply to 1D array using numpy: \", np.sqrt(arr1d))   # do squareroot on 1D array by calling method sqrt() from numpy"
   ]
  },
  {
   "cell_type": "code",
   "execution_count": 17,
   "metadata": {},
   "outputs": [
    {
     "name": "stdout",
     "output_type": "stream",
     "text": [
      "[1 2 3]\n",
      "[4 5 6]\n",
      "array1 + array2 =  [5 7 9]\n"
     ]
    }
   ],
   "source": [
    "'''\n",
    "●\tVector Addition\n",
    "    ○\tCreate two 1D NumPy arrays: array1 = [1, 2, 3] and array2 = [4, 5, 6].\n",
    "    ○\tPerform vector addition on the two arrays and print the result.\n",
    "    \n",
    "'''\n",
    "# create 2 array using numpy\n",
    "array1 = np.array([1, 2, 3])                 \n",
    "array2 = np.array([4, 5, 6])                 \n",
    "\n",
    "# print both array to make sure we created them right\n",
    "print(array1)\n",
    "print(array2)\n",
    "\n",
    "# perform addition on two arrays and print out the result\n",
    "print(\"array1 + array2 = \", array1 + array2) \n"
   ]
  },
  {
   "cell_type": "code",
   "execution_count": 40,
   "metadata": {},
   "outputs": [
    {
     "name": "stdout",
     "output_type": "stream",
     "text": [
      "[[1 2 3]\n",
      " [4 5 6]\n",
      " [7 8 9]]\n",
      "[[9 8 7]\n",
      " [6 5 4]\n",
      " [3 2 1]]\n",
      "matrix1 + matrix2 = \n",
      "[[10 10 10]\n",
      " [10 10 10]\n",
      " [10 10 10]]\n"
     ]
    }
   ],
   "source": [
    "'''\n",
    "●\tMatrix Addition\n",
    "    ○\tCreate two 2D NumPy arrays:\n",
    "        ■\tmatrix1 = [[1, 2, 3], [4, 5, 6], [7, 8, 9]]\n",
    "        ■\tmatrix2 = [[9, 8, 7], [6, 5, 4], [3, 2, 1]]\n",
    "    ○\tPerform matrix addition on the two matrices.\n",
    "'''\n",
    "# create 2 matrices using numpy\n",
    "matrix1 = np.array([[1, 2, 3], [4, 5, 6], [7, 8, 9]])   \n",
    "matrix2 = np.array([[9, 8, 7], [6, 5, 4], [3, 2, 1]])   \n",
    "\n",
    "# print out two matrices for checking purpose\n",
    "print(matrix1)\n",
    "print(matrix2)\n",
    "\n",
    "# perform matrix addition and print result\n",
    "print(\"matrix1 + matrix2 = \" ) \n",
    "print(matrix1 + matrix2)"
   ]
  },
  {
   "cell_type": "code",
   "execution_count": 4,
   "metadata": {},
   "outputs": [
    {
     "name": "stdout",
     "output_type": "stream",
     "text": [
      "Database successuly created\n",
      "Table students successfully created\n",
      "Table courses successfully created\n"
     ]
    }
   ],
   "source": [
    "# For easier testing and execution I divide this problem by blocks. This is the beginning of the code. Please run this block first then follow orders\n",
    "# If your sql has my_db database already please drop it before testing. If the program keep running just stop it and run again. \n",
    "\n",
    "'''\n",
    "9. Advanced Database Concepts - 10%\n",
    "\n",
    "You can use sample_data.sql file for the dummy values to insert into the required tables, as the task below iterates. \n",
    "\n",
    "Basic Joins Operation: \n",
    "    ●\tCreate a database called my_db in your mysql database.\n",
    "    ●\tCreate two tables: students and courses with columns student_id, student_name (VARCHAR), and course_id, course_name (VARCHAR) respectively.\n",
    "    ●\tInsert sample data into both tables. Use variables students_data and courses_data for sample data. \n",
    "    ●\tCreate a third table named student_course_enrollment with columns enrollment_id, student_id, and course_id.\n",
    "    ●\tInsert sample enrollment data to establish relationships between students and courses. \n",
    "    ●\tPerform a basic join query to retrieve a list of students along with the courses they are enrolled in.\n",
    "    ●\tPrint the result of the join query.\n",
    "\n",
    "'''\n",
    "import mysql.connector # import myqsl connector to connect to database\n",
    "import my_secrets # import secret file contain username and pass word change the user and password as it fit on your local machine\n",
    "\n",
    "# connect with myqsl server \n",
    "conn = mysql.connector.connect(\n",
    "    host= \"localhost\",\n",
    "    port= 3306,\n",
    "    user= my_secrets.mysql_username,\n",
    "    password= my_secrets.mysql_password,\n",
    "    ) \n",
    "\n",
    "cursor = conn.cursor() # create cursor to execute sql query\n",
    "\n",
    "# create database my_db and use it\n",
    "database_name = 'my_db'\n",
    "cursor.execute(f\"CREATE DATABASE IF NOT EXISTS {database_name}\")\n",
    "cursor.execute(f\"USE {database_name}\")\n",
    "print(\"Database successuly created\")\n",
    "\n",
    "# Create table students with columns student_id, student_name (VARCHAR)\n",
    "cursor.execute(\"CREATE TABLE IF NOT EXISTS students (student_id INT AUTO_INCREMENT PRIMARY KEY, student_name VARCHAR(255) NOT NULL);\")\n",
    "print(\"Table students successfully created\")\n",
    "\n",
    "# create table courses with columns course_id, course_name (VARCHAR)\n",
    "cursor.execute(\"CREATE TABLE IF NOT EXISTS courses (course_id INT AUTO_INCREMENT PRIMARY KEY, course_name VARCHAR(255) NOT NULL);\")\n",
    "print(\"Table courses successfully created\")\n",
    "conn.commit()\n"
   ]
  },
  {
   "cell_type": "code",
   "execution_count": 5,
   "metadata": {},
   "outputs": [
    {
     "name": "stdout",
     "output_type": "stream",
     "text": [
      "Values inserted into students table\n",
      "Values inserted into courses table\n"
     ]
    }
   ],
   "source": [
    "# insert values into students table\n",
    "cursor.execute(\"INSERT INTO students (student_id, student_name) VALUES (1, 'John Doe'), (2, 'Jane Smith'), (3, 'Bob Johnson');\")\n",
    "print(\"Values inserted into students table\")\n",
    "\n",
    "# insert values into courses table\n",
    "cursor.execute(\"INSERT INTO courses (course_id, course_name) VALUES (101, 'Mathematics'), (102, 'History'), (103, 'Computer Science');\")\n",
    "print(\"Values inserted into courses table\")\n",
    "\n",
    "conn.commit()"
   ]
  },
  {
   "cell_type": "code",
   "execution_count": 6,
   "metadata": {},
   "outputs": [
    {
     "name": "stdout",
     "output_type": "stream",
     "text": [
      "Table successfully created\n",
      "Values inserted into student_course_enrollment table \n"
     ]
    }
   ],
   "source": [
    "# Create a third table named student_course_enrollment with columns enrollment_id, student_id, and course_id. set foreign key to establish relationship with student_course_enrollment table through student id and course id\n",
    "cursor.execute(\"\"\"\n",
    "               CREATE TABLE IF NOT EXISTS student_course_enrollment (\n",
    "                   enrollment_id INT PRIMARY KEY, \n",
    "                   student_id INT, \n",
    "                   course_id INT, \n",
    "                   CONSTRAINT `student_fk` FOREIGN KEY (`student_id`) REFERENCES `students` (`student_id`), \n",
    "                   CONSTRAINT `course_fk` FOREIGN KEY (`course_id`) REFERENCES `courses` (`course_id`))\n",
    "                   \"\"\")\n",
    "print(\"Table successfully created\")\n",
    "\n",
    "# insert values into student_course enrollment table\n",
    "cursor.execute(\"INSERT INTO student_course_enrollment (enrollment_id, student_id, course_id) VALUES (1, 1, 101), (2, 1, 102), (3, 2, 103), (4, 3, 101), (5, 3, 103);\")\n",
    "print(\"Values inserted into student_course_enrollment table \")\n",
    "conn.commit()"
   ]
  },
  {
   "cell_type": "code",
   "execution_count": 7,
   "metadata": {},
   "outputs": [
    {
     "name": "stdout",
     "output_type": "stream",
     "text": [
      "('John Doe', 'Mathematics')\n",
      "('John Doe', 'History')\n",
      "('Jane Smith', 'Computer Science')\n",
      "('Bob Johnson', 'Mathematics')\n",
      "('Bob Johnson', 'Computer Science')\n"
     ]
    }
   ],
   "source": [
    "# select statement to join tables and retrieve student_name and course_name\n",
    "cursor.execute(\"select student_name, course_name from students join student_course_enrollment using(student_id) join courses using(course_id)\")\n",
    "rows = cursor.fetchall() # fetch all rows from query to python \n",
    "\n",
    "# print out the result of query \n",
    "for row in rows:\n",
    "    print(row)\n",
    "    \n",
    "conn.close()"
   ]
  }
 ],
 "metadata": {
  "kernelspec": {
   "display_name": "Python 3",
   "language": "python",
   "name": "python3"
  },
  "language_info": {
   "codemirror_mode": {
    "name": "ipython",
    "version": 3
   },
   "file_extension": ".py",
   "mimetype": "text/x-python",
   "name": "python",
   "nbconvert_exporter": "python",
   "pygments_lexer": "ipython3",
   "version": "3.12.1"
  }
 },
 "nbformat": 4,
 "nbformat_minor": 2
}
