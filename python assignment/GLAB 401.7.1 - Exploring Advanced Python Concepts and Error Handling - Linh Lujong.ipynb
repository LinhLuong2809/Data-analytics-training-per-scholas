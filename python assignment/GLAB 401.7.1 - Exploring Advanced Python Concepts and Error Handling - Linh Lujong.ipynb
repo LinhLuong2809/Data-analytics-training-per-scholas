{
 "cells": [
  {
   "cell_type": "code",
   "execution_count": 1,
   "metadata": {},
   "outputs": [
    {
     "name": "stdout",
     "output_type": "stream",
     "text": [
      "Using Custom Iterator:\n",
      "apple\n",
      "banana\n",
      "cherry\n",
      "date\n",
      "fig\n",
      "\n",
      "Using Generator:\n",
      "apple\n",
      "banana\n",
      "cherry\n",
      "date\n",
      "fig\n"
     ]
    }
   ],
   "source": [
    "'''\n",
    "Task 1: Iterators and Generators\n",
    "Open your Python environment and create a new Python script.\n",
    "Define a list of words.\n",
    "Create a custom iterator function that iterates through the list and prints each word.\n",
    "Implement a generator function that yields words from the list one at a time.\n",
    "Demonstrate the use of both the iterator and generator to iterate through the list of words.\n",
    "\n",
    "'''\n",
    "# Define a list of words\n",
    "word_list = [\"apple\", \"banana\", \"cherry\", \"date\", \"fig\"]\n",
    "\n",
    "# Custom iterator function\n",
    "def custom_iterator(words):\n",
    "    # Initialize an index\n",
    "    index = 0\n",
    "    \n",
    "    # Define the __next__ method\n",
    "    def __next__():\n",
    "        nonlocal index\n",
    "        if index < len(words):\n",
    "            word = words[index]\n",
    "            index += 1\n",
    "            return word\n",
    "        else:\n",
    "            raise StopIteration\n",
    "    \n",
    "    # Return an iterable\n",
    "    return iter(__next__, None)\n",
    "\n",
    "# Generator function\n",
    "def word_generator(words):\n",
    "    for word in words:\n",
    "        yield word\n",
    "\n",
    "# Demonstrate the use of the custom iterator\n",
    "print(\"Using Custom Iterator:\")\n",
    "iterator = custom_iterator(word_list)\n",
    "for word in iterator:\n",
    "    print(word)\n",
    "\n",
    "# Demonstrate the use of the generator\n",
    "print(\"\\nUsing Generator:\")\n",
    "generator = word_generator(word_list)\n",
    "for word in generator:\n",
    "    print(word)\n"
   ]
  },
  {
   "cell_type": "code",
   "execution_count": 2,
   "metadata": {},
   "outputs": [
    {
     "name": "stdout",
     "output_type": "stream",
     "text": [
      "Original Numbers: [1, 2, 3, 4, 5]\n",
      "Squared Numbers: [1, 4, 9, 16, 25]\n"
     ]
    }
   ],
   "source": [
    "'''\n",
    "Task 2: Lambda Functions and Closures\n",
    " Define a list of numbers.\n",
    "Create a lambda function that squares a number.\n",
    "Implement a closure function that captures the square function and applies it to each number in the list. Print the results.\n",
    "\n",
    "'''\n",
    "\n",
    "\n",
    "# Define a list of numbers\n",
    "numbers = [1, 2, 3, 4, 5]\n",
    "\n",
    "# Create a lambda function that squares a number\n",
    "square = lambda x: x**2\n",
    "\n",
    "# Implement a closure function that applies the square function to each number\n",
    "def apply_square(numbers_list):\n",
    "    squared_numbers = []\n",
    "\n",
    "    def square_number(number):\n",
    "        return square(number)\n",
    "\n",
    "    for num in numbers_list:\n",
    "        squared_numbers.append(square_number(num))\n",
    "\n",
    "    return squared_numbers\n",
    "\n",
    "# Apply the closure function to the list of numbers and print the results\n",
    "result = apply_square(numbers)\n",
    "print(\"Original Numbers:\", numbers)\n",
    "print(\"Squared Numbers:\", result)\n",
    "\n"
   ]
  },
  {
   "cell_type": "code",
   "execution_count": 4,
   "metadata": {},
   "outputs": [
    {
     "name": "stdout",
     "output_type": "stream",
     "text": [
      "Hello, ALICE!\n",
      "None\n",
      "Hello, BOB!\n",
      "None\n"
     ]
    }
   ],
   "source": [
    "'''\n",
    "Task 3: Decorators\n",
    "Define a function greet() that prints a greeting message.\n",
    "Create a decorator function uppercase_decorator() that modifies the behavior of greet() to convert the message to uppercase before printing.\n",
    "Apply the uppercase_decorator to the greet() function and call greet() to see the modified behavior.\n",
    "\n",
    "'''\n",
    "\n",
    "# Define a function greet() that prints a greeting message\n",
    "def greet(name):\n",
    "    message = f\"Hello, {name}!\"\n",
    "    print(message)\n",
    "\n",
    "# Create a decorator function uppercase_decorator() to convert the message to uppercase\n",
    "def uppercase_decorator(func):\n",
    "    def wrapper(name):\n",
    "        modified_message = func(name.upper())\n",
    "        print(modified_message)\n",
    "    return wrapper\n",
    "\n",
    "# Apply the uppercase_decorator to the greet() function\n",
    "greet = uppercase_decorator(greet)\n",
    "\n",
    "# Call greet() to see the modified behavior\n",
    "greet(\"Alice\")\n",
    "greet(\"Bob\")\n"
   ]
  },
  {
   "cell_type": "code",
   "execution_count": 5,
   "metadata": {},
   "outputs": [
    {
     "name": "stdout",
     "output_type": "stream",
     "text": [
      "Error: Division by zero is not allowed.\n",
      "Division attempt completed.\n",
      "Custom Exception: Division by a negative number is not allowed.\n",
      "Custom exception handling completed.\n"
     ]
    }
   ],
   "source": [
    "'''\n",
    "Task 4: Error Handling\n",
    "Define a function divide(a, b) that takes two numbers as input and returns the result of a divided by b.\n",
    "Implement a try-except block to handle potential exceptions when dividing by zero.\n",
    "Raise a custom exception using the raise statement when a condition is met, e.g., if b is negative.\n",
    "Use the assert statement to verify a condition, e.g., that the result of dividing 10 by 2 is 5.\n",
    "Create a function with a try, except, else, and finally block to handle exceptions gracefully, print messages at each stage, and ensure resource cleanup.\n",
    "\n",
    "'''\n",
    "\n",
    "\n",
    "# Define a function divide(a, b) that takes two numbers as input and returns the result of a divided by b.\n",
    "def divide(a, b):\n",
    "    return a / b\n",
    "\n",
    "try:\n",
    "    # Implement a try-except block to handle potential exceptions when dividing by zero.\n",
    "    result = divide(10, 0)\n",
    "except ZeroDivisionError:\n",
    "    print(\"Error: Division by zero is not allowed.\")\n",
    "else:\n",
    "    # Use the assert statement to verify a condition, e.g., that the result of dividing 10 by 2 is 5.\n",
    "    assert result == 5, \"Assertion Error: Result is not as expected.\"\n",
    "finally:\n",
    "    # Create a function with a try, except, else, and finally block to handle exceptions gracefully,\n",
    "    # print messages at each stage, and ensure resource cleanup.\n",
    "    print(\"Division attempt completed.\")\n",
    "\n",
    "# Raise a custom exception using the raise statement when a condition is met, e.g., if b is negative.\n",
    "def divide_custom_exception(a, b):\n",
    "    if b < 0:\n",
    "        raise ValueError(\"Custom Exception: Division by a negative number is not allowed.\")\n",
    "    return a / b\n",
    "\n",
    "try:\n",
    "    result = divide_custom_exception(10, -2)\n",
    "except ValueError as e:\n",
    "    print(e)\n",
    "else:\n",
    "    print(\"Result of division:\", result)\n",
    "finally:\n",
    "    print(\"Custom exception handling completed.\")\n",
    "\n"
   ]
  }
 ],
 "metadata": {
  "kernelspec": {
   "display_name": "Python 3",
   "language": "python",
   "name": "python3"
  },
  "language_info": {
   "codemirror_mode": {
    "name": "ipython",
    "version": 3
   },
   "file_extension": ".py",
   "mimetype": "text/x-python",
   "name": "python",
   "nbconvert_exporter": "python",
   "pygments_lexer": "ipython3",
   "version": "3.12.1"
  }
 },
 "nbformat": 4,
 "nbformat_minor": 2
}
